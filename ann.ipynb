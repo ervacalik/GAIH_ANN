{
 "cells": [
  {
   "cell_type": "markdown",
   "id": "f0ad0942",
   "metadata": {},
   "source": [
    "## **Kütüphaneleri Yükleme**"
   ]
  },
  {
   "cell_type": "code",
   "execution_count": null,
   "id": "6e196f70",
   "metadata": {},
   "outputs": [],
   "source": [
    "import numpy as np \n",
    "import pandas as pd\n",
    "import os\n",
    "import matplotlib.pyplot as plt\n",
    "import cv2\n",
    "from sklearn.model_selection import train_test_split\n",
    "from tensorflow.keras.models import Sequential\n",
    "from tensorflow.keras.layers import Conv2D, MaxPooling2D, Flatten, Dense\n",
    "from tensorflow.keras.preprocessing.image import ImageDataGenerator\n",
    "import tensorflow as tf\n",
    "from PIL import Image"
   ]
  },
  {
   "cell_type": "code",
   "execution_count": null,
   "id": "d304473c",
   "metadata": {},
   "outputs": [],
   "source": [
    "tf.config.list_physical_devices(\"GPU\")"
   ]
  },
  {
   "cell_type": "markdown",
   "id": "0351cff2",
   "metadata": {},
   "source": [
    "## **Veri setini Yükleme ve Kontrol Etme**"
   ]
  },
  {
   "cell_type": "code",
   "execution_count": null,
   "id": "e7a7e37b",
   "metadata": {},
   "outputs": [],
   "source": [
    "label = []\n",
    "path = []\n",
    "fish_dir = '/kaggle/input/a-large-scale-fish-dataset/Fish_Dataset/Fish_Dataset'\n",
    "for dir_name, _, filenames in os.walk(fish_dir):\n",
    "    for filename in filenames:\n",
    "        if os.path.splitext(filename)[-1] == '.png':  # .png uzantılı dosyaları kontrol et\n",
    "            if dir_name.split('/')[-1] != 'GT':  # GT klasörünü hariç tut\n",
    "                label.append(os.path.split(dir_name)[-1])  # Klasör adını etiket olarak ekle\n",
    "                path.append(os.path.join(dir_name, filename))  # Dosya yolunu ekle\n",
    "\n",
    "data = pd.DataFrame(columns=['path', 'label'])\n",
    "data['path'] = path\n",
    "data['label'] = label"
   ]
  },
  {
   "cell_type": "code",
   "execution_count": null,
   "id": "0ca4c346",
   "metadata": {},
   "outputs": [],
   "source": [
    "data.columns #Dataframe'in içindeki sütun adlarını çağırır"
   ]
  },
  {
   "cell_type": "code",
   "execution_count": null,
   "id": "4a014d09",
   "metadata": {},
   "outputs": [],
   "source": [
    "data.head() # DataFrame'in ilk beş satırın çağırır"
   ]
  },
  {
   "cell_type": "code",
   "execution_count": null,
   "id": "974254cc",
   "metadata": {},
   "outputs": [],
   "source": [
    "data.describe()"
   ]
  },
  {
   "cell_type": "code",
   "execution_count": null,
   "id": "bafa4a71",
   "metadata": {},
   "outputs": [],
   "source": [
    "# Veri setindeki rastgele 30 veriyi yazdırır\n",
    "from PIL import Image\n",
    "\n",
    "\n",
    "sample_data = data.sample(30)  \n",
    "\n",
    "# Görselleştirme\n",
    "plt.figure(figsize=(10, 10))\n",
    "for idx, row in enumerate(sample_data.iterrows()):\n",
    "    img_path = row[1]['path']\n",
    "    img = Image.open(img_path)\n",
    "    \n",
    "    plt.subplot(5,6, idx+1)\n",
    "    plt.imshow(img)\n",
    "    plt.title(row[1]['label'])\n",
    "    plt.axis('off')\n",
    "\n",
    "plt.tight_layout()\n",
    "plt.show()\n"
   ]
  },
  {
   "cell_type": "code",
   "execution_count": null,
   "id": "d415de36",
   "metadata": {},
   "outputs": [],
   "source": [
    "data.info()"
   ]
  },
  {
   "cell_type": "code",
   "execution_count": null,
   "id": "84401c32",
   "metadata": {},
   "outputs": [],
   "source": [
    "data[\"label\"].unique()"
   ]
  },
  {
   "cell_type": "code",
   "execution_count": null,
   "id": "589e7c14",
   "metadata": {},
   "outputs": [],
   "source": [
    "# \"GT\" içermeyen etiketleri seçerek yeni bir veri seti oluştur\n",
    "data = data[~data['label'].str.contains('GT')]\n",
    "print(\"Kalan etiketler:\", data['label'].unique())"
   ]
  },
  {
   "cell_type": "code",
   "execution_count": null,
   "id": "c5faca63",
   "metadata": {},
   "outputs": [],
   "source": [
    "def visualize_sample(data, sample_size=30):\n",
    "    \"\"\"Veri setinden rastgele örnek görüntüleri görselleştirir.\"\"\"\n",
    "    sample_data = data.sample(sample_size)\n",
    "    \n",
    "    plt.figure(figsize=(10, 10))\n",
    "    for idx, row in enumerate(sample_data.iterrows()):\n",
    "        img_path = row[1]['path']\n",
    "        img = Image.open(img_path)\n",
    "        \n",
    "        plt.subplot(5, 6, idx+1)\n",
    "        plt.imshow(img)\n",
    "        plt.title(row[1]['label'])\n",
    "        plt.axis('off')\n",
    "\n",
    "    plt.tight_layout()\n",
    "    plt.show()\n",
    "\n",
    "\n",
    "visualize_sample(data)"
   ]
  },
  {
   "cell_type": "code",
   "execution_count": null,
   "id": "5da623e7",
   "metadata": {},
   "outputs": [],
   "source": [
    "def plot_class_distribution(data):\n",
    "    \"\"\"Sınıf dağılımını pasta grafiği ile görselleştirir.\"\"\"\n",
    "    class_counts = data['label'].value_counts()\n",
    "    class_counts.plot(kind='pie', figsize=(8, 8), autopct='%1.1f%%')\n",
    "\n",
    "    plt.title('Sınıf Dağılımı')\n",
    "    plt.ylabel('')  \n",
    "    plt.show()\n",
    "\n",
    "\n",
    "plot_class_distribution(data)\n"
   ]
  },
  {
   "cell_type": "code",
   "execution_count": null,
   "id": "4e931d33",
   "metadata": {},
   "outputs": [],
   "source": [
    "data['label'].value_counts()"
   ]
  },
  {
   "cell_type": "markdown",
   "id": "ed587e04",
   "metadata": {},
   "source": [
    "# Train - Test Split "
   ]
  },
  {
   "cell_type": "code",
   "execution_count": null,
   "id": "1781106d",
   "metadata": {},
   "outputs": [],
   "source": [
    "train_data, test_data = train_test_split(data, test_size=0.2, shuffle=True, random_state=42)"
   ]
  },
  {
   "cell_type": "code",
   "execution_count": null,
   "id": "2d1d58b0",
   "metadata": {},
   "outputs": [],
   "source": [
    "train_datagen = ImageDataGenerator(rescale=1./255, validation_split=0.2)\n",
    "test_datagen = ImageDataGenerator(rescale=1./255)\n",
    "\n",
    "# Eğitim veri seti\n",
    "train_generator = train_datagen.flow_from_dataframe(\n",
    "    dataframe=train_data,\n",
    "    x_col='path',\n",
    "    y_col='label',\n",
    "    target_size=(224, 224),\n",
    "    color_mode='rgb',\n",
    "    class_mode='categorical',\n",
    "    batch_size=32,\n",
    "    shuffle=True,\n",
    "    subset='training'\n",
    ")\n",
    "\n",
    "# Doğrulama veri seti\n",
    "val_generator = train_datagen.flow_from_dataframe(\n",
    "    dataframe=train_data,\n",
    "    x_col='path',\n",
    "    y_col='label',\n",
    "    target_size=(224, 224),\n",
    "    color_mode='rgb',\n",
    "    class_mode='categorical',\n",
    "    batch_size=32,\n",
    "    shuffle=True,\n",
    "    subset='validation'\n",
    ")\n",
    "\n",
    "# Test veri seti\n",
    "test_generator = test_datagen.flow_from_dataframe(\n",
    "    dataframe=test_data,\n",
    "    x_col='path',\n",
    "    y_col='label',\n",
    "    target_size=(224, 224),\n",
    "    color_mode='rgb',\n",
    "    class_mode='categorical',\n",
    "    batch_size=32,\n",
    "    shuffle=False\n",
    ")"
   ]
  },
  {
   "cell_type": "code",
   "execution_count": null,
   "id": "923a5f42",
   "metadata": {},
   "outputs": [],
   "source": [
    "# Eğitim veri setinin büyüklüğünü yazdırma\n",
    "print(\"Eğitim veri setinin büyüklüğü:\", train_generator.samples)\n",
    "print(\"Test veri setinin büyüklüğü:\", test_generator.samples)\n",
    "print(\"Doğrulama veri setinin büyüklüğü:\", val_generator.samples)"
   ]
  },
  {
   "cell_type": "code",
   "execution_count": null,
   "id": "ea31fd07",
   "metadata": {},
   "outputs": [],
   "source": [
    "train_images, train_labels = next(train_generator)\n",
    "\n",
    "# Alınan görüntülerin ve etiketlerin şekillerini yazdırma\n",
    "print(\"Eğitim görüntülerinin şekli:\", train_images.shape) \n",
    "print(\"Eğitim etiketlerinin şekli:\", train_labels.shape)    "
   ]
  },
  {
   "cell_type": "code",
   "execution_count": null,
   "id": "607ec018",
   "metadata": {},
   "outputs": [],
   "source": [
    "images, labels = next(test_generator)\n",
    "\n",
    "# Alınan görüntülerin ve etiketlerin şekillerini yazdırma\n",
    "print(\"Test görüntülerin şekli:\", images.shape) \n",
    "print(\"Test etiketlerin şekli:\", labels.shape)    \n"
   ]
  },
  {
   "cell_type": "code",
   "execution_count": null,
   "id": "e3c6ff1c",
   "metadata": {},
   "outputs": [],
   "source": [
    "images, labels  = next (val_generator)\n",
    "print(\"Validasyon görüntülerin şekli:\", images.shape)  \n",
    "print(\"Validasyon etiketlerin şekli:\", labels.shape) "
   ]
  },
  {
   "cell_type": "markdown",
   "id": "2cf001cf",
   "metadata": {},
   "source": [
    "# Model Oluşturma"
   ]
  },
  {
   "cell_type": "code",
   "execution_count": 2,
   "id": "a03c031e",
   "metadata": {},
   "outputs": [],
   "source": [
    "from tensorflow.keras import layers, models\n",
    "import tensorflow as tf"
   ]
  },
  {
   "cell_type": "code",
   "execution_count": null,
   "id": "fbad0ff4",
   "metadata": {},
   "outputs": [],
   "source": [
    "model = tf.keras.models.Sequential()"
   ]
  },
  {
   "cell_type": "code",
   "execution_count": null,
   "id": "9f2218d9",
   "metadata": {},
   "outputs": [],
   "source": [
    "# Konvolüsyonel katmanlar\n",
    "model.add(tf.keras.layers.Conv2D(32, (3, 3), activation=\"relu\", input_shape=(224, 224, 3)))\n",
    "model.add(tf.keras.layers.MaxPooling2D((2, 2)))\n",
    "\n",
    "model.add(tf.keras.layers.Conv2D(64, (3, 3), activation=\"relu\"))\n",
    "model.add(tf.keras.layers.MaxPooling2D((2, 2)))\n",
    "\n",
    "model.add(tf.keras.layers.Conv2D(128, (3, 3), activation=\"relu\"))\n",
    "model.add(tf.keras.layers.MaxPooling2D((2, 2)))"
   ]
  },
  {
   "cell_type": "markdown",
   "id": "c3869eec",
   "metadata": {},
   "source": [
    "* Konvolüsyonel katmanlar görüntülerin özelliklerini çıkarır. Bu, özellikle görüntü tabanlı verilerde kullanılır. 2D konvolüsyonel katmanlar (Conv2D), görüntünün kenarlarını, köşelerini ve diğer önemli özelliklerini tespit etmek için filtreler uygular\n",
    "* Max pooling katmanı, görüntünün boyutunu küçültmek (downsampling) için kullanılır. Bu işlem, modelin daha az hesaplama gücüyle daha hızlı çalışmasına yardımcı olur.\n"
   ]
  },
  {
   "cell_type": "code",
   "execution_count": null,
   "id": "6ca92fb0",
   "metadata": {},
   "outputs": [],
   "source": [
    "model.add(tf.keras.layers.Flatten())"
   ]
  },
  {
   "cell_type": "markdown",
   "id": "bf073072",
   "metadata": {},
   "source": [
    "* model.add(tf.keras.layers.Flatten()) ifadesi, konvolüsyonel katmanlardan elde edilen çok boyutlu (3D) verileri düzleştirmek için kullanılır. "
   ]
  },
  {
   "cell_type": "code",
   "execution_count": null,
   "id": "cbfb8c86",
   "metadata": {},
   "outputs": [],
   "source": [
    "# Tam bağlantılı katmanlar\n",
    "model.add(tf.keras.layers.Dense(512, activation=\"relu\"))\n",
    "model.add(tf.keras.layers.Dropout(0.4))  # Dropout overfitting'i azaltabilir\n",
    "\n",
    "model.add(tf.keras.layers.Dense(256, activation=\"relu\"))\n",
    "model.add(tf.keras.layers.Dropout(0.4))\n",
    "\n",
    "model.add(tf.keras.layers.Dense(128, activation=\"relu\"))\n",
    "model.add(tf.keras.layers.Dropout(0.3))"
   ]
  },
  {
   "cell_type": "markdown",
   "id": "4b1a9b67",
   "metadata": {},
   "source": [
    "* Dense katmanlar, öğrenme kapasitesini artırırken, Dropout katmanları aşırı öğrenmeyi önleyerek modelin daha iyi performans göstermesini sağlar."
   ]
  },
  {
   "cell_type": "code",
   "execution_count": null,
   "id": "89230a51",
   "metadata": {},
   "outputs": [],
   "source": [
    "model.add(tf.keras.layers.Dense(9, activation=\"softmax\"))"
   ]
  },
  {
   "cell_type": "markdown",
   "id": "f6e091f8",
   "metadata": {},
   "source": [
    "* Model, girdi verilerini alıp her bir sınıf için olasılık tahminleri yapar. Örneğin, model bir görüntüyü analiz ettiğinde, her bir sınıf için (1. sınıf, 2. sınıf, ..., 9. sınıf) olasılıklar verir ve en yüksek olasılığa sahip olan sınıf tahmin edilen sınıf olarak kabul edilir."
   ]
  },
  {
   "cell_type": "code",
   "execution_count": null,
   "id": "39c0b55e",
   "metadata": {},
   "outputs": [],
   "source": [
    "model.compile(optimizer=\"adam\", loss=\"categorical_crossentropy\", metrics=[\"accuracy\"])"
   ]
  },
  {
   "cell_type": "code",
   "execution_count": null,
   "id": "906ccab5",
   "metadata": {},
   "outputs": [],
   "source": [
    "# EarlyStopping tanımlama\n",
    "early_stopping = tf.keras.callbacks.EarlyStopping(\n",
    "    monitor=\"val_loss\",\n",
    "    patience=3,\n",
    "    restore_best_weights=True,\n",
    "    verbose=1\n",
    ")"
   ]
  },
  {
   "cell_type": "markdown",
   "id": "eec53cc5",
   "metadata": {},
   "source": [
    "* EarlyStopping, modelin eğitimini otomatik olarak durdurarak, aşırı öğrenmeyi engeller ve en iyi performansı sağlayan ağırlıkların kullanılmasını sağlar. Bu sayede, gereksiz hesaplama süresinden tasarruf edilir ve modelin genel performansı artırılır."
   ]
  },
  {
   "cell_type": "code",
   "execution_count": null,
   "id": "e7b44725",
   "metadata": {},
   "outputs": [],
   "source": [
    "# Modeli eğitme\n",
    "results = model.fit(\n",
    "    train_generator,\n",
    "    validation_data=val_generator,\n",
    "    epochs=15,  # Daha fazla epoch deneyebilirsiniz\n",
    "    callbacks=[early_stopping]\n",
    ")"
   ]
  },
  {
   "cell_type": "markdown",
   "id": "e63fbc53",
   "metadata": {},
   "source": [
    "* Model, eğitim verisi üzerinde iyi bir performans sergileyerek doğruluğu artırdı, ancak bazı epoch'larda doğrulama verisi üzerindeki performans dalgalanmaları görüldü. Bu, aşırı öğrenme (overfitting) belirtisi olabilir. Early Stopping mekanizması, aşırı öğrenmeyi önlemek için kullanıldı ve modelin en iyi performans gösterdiği epoch'taki ağırlıkları geri yüklenerek en iyi sonuçlar elde edilmeye çalışıldı."
   ]
  },
  {
   "cell_type": "code",
   "execution_count": null,
   "id": "9af68992",
   "metadata": {},
   "outputs": [],
   "source": [
    "import matplotlib.pyplot as plt\n",
    "from sklearn.metrics import classification_report, confusion_matrix\n",
    "import numpy as np\n",
    "import seaborn as sns\n",
    "\n",
    "# 1. Eğitim ve doğrulama kayıp ve doğruluk grafiğini çizme\n",
    "def plot_training_history(history):\n",
    "    acc = results.history['accuracy']\n",
    "    val_acc = results.history['val_accuracy']\n",
    "    loss = results.history['loss']\n",
    "    val_loss = results.history['val_loss']\n",
    "    epochs = range(1, len(acc) + 1)\n",
    "\n",
    "    # Accuracy grafiği\n",
    "    plt.figure(figsize=(12, 4))\n",
    "    \n",
    "    plt.subplot(1, 2, 1)\n",
    "    plt.plot(epochs, acc, 'b', label='Training accuracy')\n",
    "    plt.plot(epochs, val_acc, 'r', label='Validation accuracy')\n",
    "    plt.title('Training and validation accuracy')\n",
    "    plt.legend()\n",
    "\n",
    "    # Loss grafiği\n",
    "    plt.subplot(1, 2, 2)\n",
    "    plt.plot(epochs, loss, 'b', label='Training loss')\n",
    "    plt.plot(epochs, val_loss, 'r', label='Validation loss')\n",
    "    plt.title('Training and validation loss')\n",
    "    plt.legend()\n",
    "\n",
    "    plt.show()\n",
    "\n",
    "# 2. Confusion Matrix ve Classification Report\n",
    "def evaluate_model(model, test_generator):\n",
    "    # Test setine modelin tahminlerini uygulama\n",
    "    Y_pred = model.predict(test_generator)\n",
    "    y_pred = np.argmax(Y_pred, axis=1)\n",
    "\n",
    "    # Gerçek etiketler\n",
    "    y_true = test_generator.classes\n",
    "\n",
    "    # Confusion matrix oluşturma\n",
    "    cm = confusion_matrix(y_true, y_pred)\n",
    "    \n",
    "    plt.figure(figsize=(8, 6))\n",
    "    sns.heatmap(cm, annot=True, fmt=\"d\", cmap=\"Blues\", cbar=False, \n",
    "                xticklabels=list(test_generator.class_indices.keys()), \n",
    "                yticklabels=list(test_generator.class_indices.keys()))\n",
    "    plt.title('Confusion Matrix')\n",
    "    plt.ylabel('True label')\n",
    "    plt.xlabel('Predicted label')\n",
    "    plt.show()\n",
    "\n",
    "    # Classification report oluşturma\n",
    "    print('Classification Report')\n",
    "    target_names = list(test_generator.class_indices.keys())\n",
    "    print(classification_report(y_true, y_pred, target_names=target_names))\n",
    "\n",
    "plot_training_history(results)  \n",
    "\n",
    "evaluate_model(model, test_generator)  \n"
   ]
  },
  {
   "cell_type": "code",
   "execution_count": null,
   "id": "542dcfa0",
   "metadata": {},
   "outputs": [],
   "source": [
    "import tensorflow as tf\n",
    "from tensorflow import keras\n",
    "from kerastuner import HyperModel, RandomSearch\n",
    "from tensorflow.keras.callbacks import EarlyStopping\n",
    "\n",
    "\n",
    "def build_model(hp):\n",
    "    model = keras.models.Sequential()\n",
    "    \n",
    "    # Flatten katmanı\n",
    "    model.add(keras.layers.Flatten(input_shape=(224, 224, 3)))\n",
    "    \n",
    "    # İlk dense katmanı (nöron sayısı için arama)\n",
    "    model.add(keras.layers.Dense(\n",
    "        units=hp.Int('units1', min_value=128, max_value=512, step=128), \n",
    "        activation='relu'))\n",
    "    \n",
    "    # Dropout oranı (ilk dropout katmanı)\n",
    "    model.add(keras.layers.Dropout(\n",
    "        rate=hp.Float('dropout1', min_value=0.0, max_value=0.5, step=0.1)))\n",
    "    \n",
    "    # İkinci dense katmanı\n",
    "    model.add(keras.layers.Dense(\n",
    "        units=hp.Int('units2', min_value=128, max_value=512, step=128), \n",
    "        activation='relu'))\n",
    "    \n",
    "    # Dropout oranı (ikinci dropout katmanı)\n",
    "    model.add(keras.layers.Dropout(\n",
    "        rate=hp.Float('dropout2', min_value=0.0, max_value=0.5, step=0.1)))\n",
    "    \n",
    "    # Çıkış katmanı\n",
    "    model.add(keras.layers.Dense(9, activation='softmax'))\n",
    "\n",
    "    # Öğrenme oranı için optimizer yapılandırması\n",
    "    model.compile(\n",
    "        optimizer=keras.optimizers.Adam(\n",
    "            learning_rate=hp.Float('learning_rate', min_value=1e-4, max_value=1e-2, sampling='log')),\n",
    "        loss='categorical_crossentropy',\n",
    "        metrics=['accuracy']\n",
    "    )\n",
    "\n",
    "    return model\n",
    "\n",
    "# Hiperparametre arama fonksiyonunu ayarlayalım\n",
    "tuner = RandomSearch(\n",
    "    build_model,\n",
    "    objective='val_accuracy',\n",
    "    max_trials=5,  \n",
    "    executions_per_trial=2, \n",
    "    directory='hyperparam_search',\n",
    "    project_name='cnn_tuning')\n",
    "\n",
    "\n",
    "tuner.search(train_generator, validation_data=val_generator, epochs=10, callbacks=[early_stopping])\n",
    "\n",
    "# En iyi modeli alalım\n",
    "best_hps = tuner.get_best_hyperparameters(num_trials=1)[0]\n",
    "\n",
    "# En iyi modelle eğitimi başlatalım\n",
    "model = tuner.hypermodel.build(best_hps)\n",
    "history = model.fit(train_generator, validation_data=val_generator, epochs=15, callbacks=[early_stopping])\n",
    "\n",
    "# En iyi hiperparametreler\n",
    "print(f\"Optimal units1: {best_hps.get('units1')}\")\n",
    "print(f\"Optimal units2: {best_hps.get('units2')}\")\n",
    "print(f\"Optimal dropout1: {best_hps.get('dropout1')}\")\n",
    "print(f\"Optimal dropout2: {best_hps.get('dropout2')}\")\n",
    "print(f\"Optimal learning rate: {best_hps.get('learning_rate')}\")\n"
   ]
  },
  {
   "cell_type": "code",
   "execution_count": null,
   "id": "36c50e74",
   "metadata": {},
   "outputs": [],
   "source": []
  },
  {
   "cell_type": "code",
   "execution_count": null,
   "id": "24c67059",
   "metadata": {},
   "outputs": [],
   "source": []
  }
 ],
 "metadata": {
  "kernelspec": {
   "display_name": "Python 3 (ipykernel)",
   "language": "python",
   "name": "python3"
  },
  "language_info": {
   "codemirror_mode": {
    "name": "ipython",
    "version": 3
   },
   "file_extension": ".py",
   "mimetype": "text/x-python",
   "name": "python",
   "nbconvert_exporter": "python",
   "pygments_lexer": "ipython3",
   "version": "3.9.13"
  }
 },
 "nbformat": 4,
 "nbformat_minor": 5
}
